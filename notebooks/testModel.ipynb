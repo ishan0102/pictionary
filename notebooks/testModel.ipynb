{
 "cells": [
  {
   "cell_type": "code",
   "execution_count": 1,
   "metadata": {},
   "outputs": [],
   "source": [
    "import numpy as np\n",
    "import json\n",
    "import pickle   "
   ]
  },
  {
   "cell_type": "code",
   "execution_count": 2,
   "metadata": {},
   "outputs": [],
   "source": [
    "# load json data from ../server/images/4d6fcaf5.json\n",
    "data = json.load(open('../server/images/9aa3a433.json'))"
   ]
  },
  {
   "cell_type": "code",
   "execution_count": 34,
   "metadata": {},
   "outputs": [],
   "source": [
    "\n",
    "lines = data['lines'] # data from canvas\n",
    "strokes = [] # data for model\n",
    "for stroke in lines:\n",
    "    x_coords, y_coords = [], []\n",
    "    for point in stroke['points']:\n",
    "        x_coords.append(point['x'])\n",
    "        y_coords.append(point['y'])\n",
    "    strokes.append([x_coords, y_coords])\n",
    "\n",
    "\n",
    "strokes_str = f'{strokes}'"
   ]
  },
  {
   "cell_type": "code",
   "execution_count": 4,
   "metadata": {},
   "outputs": [],
   "source": [
    "from model import SketchClassifier\n",
    "clf = pickle.load(open('model.pkl', 'rb'))"
   ]
  },
  {
   "cell_type": "code",
   "execution_count": null,
   "metadata": {},
   "outputs": [],
   "source": [
    "clf.FLAGS['predict_for_data'] = strokes_str\n",
    "ret = clf.predict()"
   ]
  },
  {
   "cell_type": "code",
   "execution_count": 6,
   "metadata": {},
   "outputs": [
    {
     "data": {
      "text/plain": [
       "('sheep', 0.8731745)"
      ]
     },
     "execution_count": 6,
     "metadata": {},
     "output_type": "execute_result"
    }
   ],
   "source": [
    "ret"
   ]
  }
 ],
 "metadata": {
  "interpreter": {
   "hash": "2b4a47d6592f16e1ed952c68ff7b0d7435e51bbd48a5cf35d81d0bbe8c1fb349"
  },
  "kernelspec": {
   "display_name": "Python 3.8.13 ('CV')",
   "language": "python",
   "name": "python3"
  },
  "language_info": {
   "codemirror_mode": {
    "name": "ipython",
    "version": 3
   },
   "file_extension": ".py",
   "mimetype": "text/x-python",
   "name": "python",
   "nbconvert_exporter": "python",
   "pygments_lexer": "ipython3",
   "version": "3.7.13"
  },
  "orig_nbformat": 4
 },
 "nbformat": 4,
 "nbformat_minor": 2
}
