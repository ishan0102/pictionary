{
 "cells": [
  {
   "cell_type": "code",
   "execution_count": 13,
   "metadata": {},
   "outputs": [],
   "source": [
    "import matplotlib.pyplot as plt\n",
    "import numpy as np\n",
    "import json\n",
    "import ndjson\n",
    "import io\n",
    "from tqdm import tqdm\n",
    "from PIL import Image"
   ]
  },
  {
   "cell_type": "code",
   "execution_count": 20,
   "metadata": {},
   "outputs": [],
   "source": [
    "data_dir = './gan_resources/gan_data'\n",
    "with open(f'{data_dir}/full_simplified_envelope.ndjson') as f:\n",
    "    data = ndjson.load(f)"
   ]
  },
  {
   "cell_type": "code",
   "execution_count": 21,
   "metadata": {},
   "outputs": [
    {
     "name": "stderr",
     "output_type": "stream",
     "text": [
      "100%|██████████| 5000/5000 [01:15<00:00, 66.55it/s]\n"
     ]
    },
    {
     "data": {
      "text/plain": [
       "<Figure size 432x288 with 0 Axes>"
      ]
     },
     "metadata": {},
     "output_type": "display_data"
    }
   ],
   "source": [
    "from matplotlib.backends.backend_agg import FigureCanvasAgg as FigureCanvas\n",
    "from matplotlib.figure import Figure\n",
    "\n",
    "preprocessed_images = []\n",
    "for i in tqdm(range(5000)):\n",
    "# for i in tqdm(range(1)):\n",
    "    plt.axis('off')\n",
    "    for x_points, y_points in data[i]['drawing']:\n",
    "        # reorient the points\n",
    "        flipped_y_points = -np.asarray(y_points) + 255\n",
    "        plt.plot(x_points, flipped_y_points, linewidth=25, color='black')\n",
    "\n",
    "    canvas = FigureCanvas(plt.gcf())\n",
    "\n",
    "    canvas.draw()       # draw the canvas, cache the renderer\n",
    "\n",
    "    width, height = plt.gcf().get_size_inches() * plt.gcf().get_dpi()\n",
    "    image = np.frombuffer(canvas.tostring_rgb(), dtype='uint8').reshape(int(height), int(width), 3)\n",
    "\n",
    "    im = Image.fromarray(255 - image[:,:,0])\n",
    "    resized = im.resize((28,28))\n",
    "    preprocessed_images.append(np.array(resized))\n",
    "\n",
    "    plt.clf()    "
   ]
  },
  {
   "cell_type": "code",
   "execution_count": 22,
   "metadata": {},
   "outputs": [
    {
     "data": {
      "image/png": "[encoded data removed]",
      "text/plain": [
       "<Figure size 432x288 with 1 Axes>"
      ]
     },
     "metadata": {
      "needs_background": "light"
     },
     "output_type": "display_data"
    },
    {
     "data": {
      "image/png": "[encoded data removed]",
      "text/plain": [
       "<Figure size 432x288 with 1 Axes>"
      ]
     },
     "metadata": {
      "needs_background": "light"
     },
     "output_type": "display_data"
    },
    {
     "data": {
      "image/png": "[encoded data removed]",
      "text/plain": [
       "<Figure size 432x288 with 1 Axes>"
      ]
     },
     "metadata": {
      "needs_background": "light"
     },
     "output_type": "display_data"
    }
   ],
   "source": [
    "for i in range(4,7):        \n",
    "    plt.imshow(preprocessed_images[i], cmap='gray')\n",
    "    plt.show()"
   ]
  },
  {
   "cell_type": "code",
   "execution_count": 12,
   "metadata": {},
   "outputs": [
    {
     "name": "stdout",
     "output_type": "stream",
     "text": [
      "4089\n"
     ]
    }
   ],
   "source": [
    "good_apple_index = []\n",
    "for i, im in enumerate(preprocessed_images):\n",
    "    # number of white pixels\n",
    "    if (np.sum(im == 255) <= 125 and np.sum(im == 255) >= 85):\n",
    "        good_apple_index.append(i)\n",
    "        \n",
    "    # plt.imshow(preprocessed_images[i])\n",
    "    # plt.show()\n",
    "print(len(good_apple_index))\n",
    "good_apples = np.asarray(preprocessed_images)[good_apple_index]\n",
    "\n",
    "processed_dir = './gan_resources/gan_data'\n",
    "np.save(f'{processed_dir}/good_envelopes_images.npy', preprocessed_images)"
   ]
  },
  {
   "cell_type": "markdown",
   "metadata": {},
   "source": [
    "My attempt to reduce dissimilar images"
   ]
  },
  {
   "cell_type": "code",
   "execution_count": 19,
   "metadata": {},
   "outputs": [
    {
     "name": "stdout",
     "output_type": "stream",
     "text": [
      "1851\n"
     ]
    }
   ],
   "source": [
    "good_apple_index = []\n",
    "for i, im in enumerate(preprocessed_images):\n",
    "    # number of white pixels\n",
    "    if (np.sum(im == 255) <= 85 and np.sum(im == 255) >= 50):\n",
    "        good_apple_index.append(i)\n",
    "        \n",
    "print(len(good_apple_index))\n",
    "good_apples = np.asarray(preprocessed_images)[good_apple_index]\n",
    "np.save(f'{processed_dir}/good_apples_images.npy', preprocessed_images)"
   ]
  },
  {
   "cell_type": "code",
   "execution_count": 22,
   "metadata": {},
   "outputs": [
    {
     "data": {
      "image/png": "[encoded data removed]",
      "text/plain": [
       "<Figure size 432x288 with 1 Axes>"
      ]
     },
     "metadata": {
      "needs_background": "light"
     },
     "output_type": "display_data"
    },
    {
     "data": {
      "image/png": "[encoded data removed]",
      "text/plain": [
       "<Figure size 432x288 with 1 Axes>"
      ]
     },
     "metadata": {
      "needs_background": "light"
     },
     "output_type": "display_data"
    },
    {
     "data": {
      "image/png": "[encoded data removed]",
      "text/plain": [
       "<Figure size 432x288 with 1 Axes>"
      ]
     },
     "metadata": {
      "needs_background": "light"
     },
     "output_type": "display_data"
    }
   ],
   "source": [
    "for i in range(4,7):        \n",
    "    plt.imshow(good_apples[i])\n",
    "    plt.show()"
   ]
  }
 ],
 "metadata": {
  "interpreter": {
   "hash": "0f25250bd7c64a8e41127df197ba5d89fb1eaec33c3798d3d2397153d2812dbc"
  },
  "kernelspec": {
   "display_name": "Python 3.8.13 ('pictionary-gan')",
   "language": "python",
   "name": "python3"
  },
  "language_info": {
   "codemirror_mode": {
    "name": "ipython",
    "version": 3
   },
   "file_extension": ".py",
   "mimetype": "text/x-python",
   "name": "python",
   "nbconvert_exporter": "python",
   "pygments_lexer": "ipython3",
   "version": "3.8.13"
  },
  "orig_nbformat": 4
 },
 "nbformat": 4,
 "nbformat_minor": 2
}
